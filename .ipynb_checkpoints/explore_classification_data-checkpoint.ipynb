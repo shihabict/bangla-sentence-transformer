{
 "cells": [
  {
   "cell_type": "code",
   "execution_count": 1,
   "id": "11b15139-23fb-4fec-8418-a6a49a57ec72",
   "metadata": {},
   "outputs": [],
   "source": [
    "data_dir = \"DATA/bn_sentiment.csv\""
   ]
  },
  {
   "cell_type": "code",
   "execution_count": 13,
   "id": "2aee2e6d-c55e-4aec-b850-2e16aed8a7b6",
   "metadata": {},
   "outputs": [],
   "source": [
    "import pandas as pd\n",
    "import matplotlib.pyplot as plt\n",
    "import seaborn as sns"
   ]
  },
  {
   "cell_type": "code",
   "execution_count": 10,
   "id": "c03643e5-3d7a-41de-8086-b23350e9475f",
   "metadata": {},
   "outputs": [],
   "source": [
    "def load_data(data_path):\n",
    "    return pd.read_csv(data_path)\n",
    "\n",
    "def plot_data_distribution(data_frame,column_name):\n",
    "    emotion_counts = data_frame[column_name].value_counts()\n",
    "\n",
    "    fig = plt.figure(figsize= (12, 5))\n",
    "    ax = fig.add_subplot(111)\n",
    "    sns.barplot(x = emotion_counts.index, y = emotion_counts )\n",
    "\n",
    "    for a, p in enumerate(ax.patches):\n",
    "        ax.annotate(format(p.get_height(), '.0f'), xy = (p.get_x() + p.get_width() / 2.0, p.get_height()), xytext = (0,-15), size = 8, color = 'white' , ha = 'center', va = 'center', textcoords = 'offset points', bbox = dict(boxstyle = 'round', facecolor='none',edgecolor='white', alpha = 0.5) )\n",
    "\n",
    "    plt.xlabel('Emotions', size = 15)\n",
    "    plt.ylabel('Number of Emotions', size= 15)\n",
    "    plt.xticks(size = 12)\n",
    "    plt.title(\"Emotion Distribution\" , size = 18)\n",
    "    plt.show()\n",
    "\n",
    "def drop_duplicates_data(data_frame,column_name):\n",
    "    print(f\"DATA Count before dropping: {data_frame.shape}\")\n",
    "    filtered_df = data_frame.drop_duplicates(subset=[column_name], keep='first')\n",
    "    print(f\"DATA Count after dropping: {filtered_df.shape}\")\n",
    "    return filtered_df\n",
    "\n",
    "\n",
    "def plot_most_frequent_words(df,column_name, category):\n",
    "    # Filter the DataFrame to include only rows with the specified category\n",
    "    filtered_df = df[df[column_name] == category]\n",
    "\n",
    "    # Concatenate all the text in the 'text' column for the selected category\n",
    "    text = ' '.join(filtered_df[column_name])\n",
    "\n",
    "    # Tokenize the text into words\n",
    "    words = text.split()\n",
    "\n",
    "    # Calculate word frequencies\n",
    "    word_freq = Counter(words)\n",
    "    # Print word and its frequency\n",
    "    # Get the top 100 most frequent words\n",
    "    top_100_words = word_freq.most_common(100)\n",
    "    # for word, freq in top_100_words.items():\n",
    "    #     print(f'Word: {word}, Frequency: {freq}')\n",
    "    for word, freq in top_100_words:\n",
    "        print(f'Word: {word}, Frequency: {freq}')\n",
    "\n",
    "    regex = r\"[\\u0980-\\u09FF]+\"\n",
    "    # Create a word cloud\n",
    "    wordcloud = WordCloud(width=800, height=400, background_color='white',font_path='/content/drive/MyDrive/Bangla_NLP/LDA/Kalpurush.ttf',regexp=regex).generate_from_frequencies(word_freq)\n",
    "    \n",
    "\n",
    "    # Plot the word cloud\n",
    "    plt.figure(figsize=(10, 5))\n",
    "    plt.imshow(wordcloud, interpolation='bilinear')\n",
    "    plt.title(f'Most Frequent Words in Category: {category}')\n",
    "    plt.axis('off')\n",
    "    plt.show()\n"
   ]
  },
  {
   "cell_type": "code",
   "execution_count": 6,
   "id": "28fa685c-7368-4aca-8bdb-bb73bfbcc0f9",
   "metadata": {},
   "outputs": [
    {
     "data": {
      "text/html": [
       "<div>\n",
       "<style scoped>\n",
       "    .dataframe tbody tr th:only-of-type {\n",
       "        vertical-align: middle;\n",
       "    }\n",
       "\n",
       "    .dataframe tbody tr th {\n",
       "        vertical-align: top;\n",
       "    }\n",
       "\n",
       "    .dataframe thead th {\n",
       "        text-align: right;\n",
       "    }\n",
       "</style>\n",
       "<table border=\"1\" class=\"dataframe\">\n",
       "  <thead>\n",
       "    <tr style=\"text-align: right;\">\n",
       "      <th></th>\n",
       "      <th>Unnamed: 0</th>\n",
       "      <th>text</th>\n",
       "      <th>sentiment</th>\n",
       "    </tr>\n",
       "  </thead>\n",
       "  <tbody>\n",
       "    <tr>\n",
       "      <th>0</th>\n",
       "      <td>0</td>\n",
       "      <td>অসাধারণ নিশো বস্ আর অমি ভাইকেও।</td>\n",
       "      <td>1</td>\n",
       "    </tr>\n",
       "    <tr>\n",
       "      <th>1</th>\n",
       "      <td>1</td>\n",
       "      <td>আমার দেখা বেস্ট নাটক</td>\n",
       "      <td>1</td>\n",
       "    </tr>\n",
       "    <tr>\n",
       "      <th>2</th>\n",
       "      <td>2</td>\n",
       "      <td>নাটক টা অনেক সুন্দর হয়েছে,,,,আফরান নিশো ভাইয...</td>\n",
       "      <td>1</td>\n",
       "    </tr>\n",
       "    <tr>\n",
       "      <th>3</th>\n",
       "      <td>3</td>\n",
       "      <td>সত্যি অসাধারণ একটি রিলেশন</td>\n",
       "      <td>1</td>\n",
       "    </tr>\n",
       "    <tr>\n",
       "      <th>4</th>\n",
       "      <td>4</td>\n",
       "      <td>মজা পাইছি ভাষা গুলো কেমন লাগলো</td>\n",
       "      <td>1</td>\n",
       "    </tr>\n",
       "  </tbody>\n",
       "</table>\n",
       "</div>"
      ],
      "text/plain": [
       "   Unnamed: 0                                               text  sentiment\n",
       "0           0                    অসাধারণ নিশো বস্ আর অমি ভাইকেও।          1\n",
       "1           1                               আমার দেখা বেস্ট নাটক          1\n",
       "2           2   নাটক টা অনেক সুন্দর হয়েছে,,,,আফরান নিশো ভাইয...          1\n",
       "3           3                          সত্যি অসাধারণ একটি রিলেশন          1\n",
       "4           4                     মজা পাইছি ভাষা গুলো কেমন লাগলো          1"
      ]
     },
     "execution_count": 6,
     "metadata": {},
     "output_type": "execute_result"
    }
   ],
   "source": [
    "senitment_df = load_data(data_dir)\n",
    "senitment_df.head()"
   ]
  },
  {
   "cell_type": "code",
   "execution_count": 14,
   "id": "010483bc-bdce-4c94-ad18-d0e7502fffb3",
   "metadata": {},
   "outputs": [
    {
     "data": {
      "image/png": "[encoded data removed]",
      "text/plain": [
       "<Figure size 1200x500 with 1 Axes>"
      ]
     },
     "metadata": {},
     "output_type": "display_data"
    }
   ],
   "source": [
    "plot_data_distribution(senitment_df,'sentiment')"
   ]
  },
  {
   "cell_type": "code",
   "execution_count": 15,
   "id": "50281824-d39e-4936-8e4c-4e8bf0619de8",
   "metadata": {},
   "outputs": [
    {
     "ename": "TypeError",
     "evalue": "sequence item 0: expected str instance, int found",
     "output_type": "error",
     "traceback": [
      "\u001b[0;31m---------------------------------------------------------------------------\u001b[0m",
      "\u001b[0;31mTypeError\u001b[0m                                 Traceback (most recent call last)",
      "Cell \u001b[0;32mIn[15], line 1\u001b[0m\n\u001b[0;32m----> 1\u001b[0m \u001b[43mplot_most_frequent_words\u001b[49m\u001b[43m(\u001b[49m\u001b[43msenitment_df\u001b[49m\u001b[43m,\u001b[49m\u001b[38;5;124;43m'\u001b[39;49m\u001b[38;5;124;43msentiment\u001b[39;49m\u001b[38;5;124;43m'\u001b[39;49m\u001b[43m,\u001b[49m\u001b[43m \u001b[49m\u001b[38;5;241;43m1\u001b[39;49m\u001b[43m)\u001b[49m\n",
      "Cell \u001b[0;32mIn[10], line 32\u001b[0m, in \u001b[0;36mplot_most_frequent_words\u001b[0;34m(df, column_name, category)\u001b[0m\n\u001b[1;32m     29\u001b[0m filtered_df \u001b[38;5;241m=\u001b[39m df[df[column_name] \u001b[38;5;241m==\u001b[39m category]\n\u001b[1;32m     31\u001b[0m \u001b[38;5;66;03m# Concatenate all the text in the 'text' column for the selected category\u001b[39;00m\n\u001b[0;32m---> 32\u001b[0m text \u001b[38;5;241m=\u001b[39m \u001b[38;5;124;43m'\u001b[39;49m\u001b[38;5;124;43m \u001b[39;49m\u001b[38;5;124;43m'\u001b[39;49m\u001b[38;5;241;43m.\u001b[39;49m\u001b[43mjoin\u001b[49m\u001b[43m(\u001b[49m\u001b[43mfiltered_df\u001b[49m\u001b[43m[\u001b[49m\u001b[43mcolumn_name\u001b[49m\u001b[43m]\u001b[49m\u001b[43m)\u001b[49m\n\u001b[1;32m     34\u001b[0m \u001b[38;5;66;03m# Tokenize the text into words\u001b[39;00m\n\u001b[1;32m     35\u001b[0m words \u001b[38;5;241m=\u001b[39m text\u001b[38;5;241m.\u001b[39msplit()\n",
      "\u001b[0;31mTypeError\u001b[0m: sequence item 0: expected str instance, int found"
     ]
    }
   ],
   "source": [
    "plot_most_frequent_words(senitment_df,'sentiment', 1)"
   ]
  },
  {
   "cell_type": "code",
   "execution_count": null,
   "id": "528ca329-1197-4c78-a8af-11d6f58088e4",
   "metadata": {},
   "outputs": [],
   "source": []
  }
 ],
 "metadata": {
  "kernelspec": {
   "display_name": "Python 3 (ipykernel)",
   "language": "python",
   "name": "python3"
  },
  "language_info": {
   "codemirror_mode": {
    "name": "ipython",
    "version": 3
   },
   "file_extension": ".py",
   "mimetype": "text/x-python",
   "name": "python",
   "nbconvert_exporter": "python",
   "pygments_lexer": "ipython3",
   "version": "3.10.12"
  }
 },
 "nbformat": 4,
 "nbformat_minor": 5
}
